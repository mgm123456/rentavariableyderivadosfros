{
  "nbformat": 4,
  "nbformat_minor": 0,
  "metadata": {
    "colab": {
      "name": "Untitled2.ipynb",
      "provenance": [],
      "authorship_tag": "ABX9TyP39Ne7ojGtkq5Bv7bq+3Gv",
      "include_colab_link": true
    },
    "kernelspec": {
      "name": "python3",
      "display_name": "Python 3"
    },
    "language_info": {
      "name": "python"
    }
  },
  "cells": [
    {
      "cell_type": "markdown",
      "metadata": {
        "id": "view-in-github",
        "colab_type": "text"
      },
      "source": [
        "<a href=\"https://colab.research.google.com/github/mgm123456/rentavariableyderivadosfros/blob/main/Untitled2.ipynb\" target=\"_parent\"><img src=\"https://colab.research.google.com/assets/colab-badge.svg\" alt=\"Open In Colab\"/></a>"
      ]
    },
    {
      "cell_type": "code",
      "execution_count": 1,
      "metadata": {
        "colab": {
          "base_uri": "https://localhost:8080/"
        },
        "id": "j6Tg-k2OUDwX",
        "outputId": "2a618cd0-6b77-4c54-9223-954ca2ac1119"
      },
      "outputs": [
        {
          "output_type": "stream",
          "name": "stdout",
          "text": [
            "Valor actual de la opción:  17.345212719490956 €\n"
          ]
        }
      ],
      "source": [
        "import numpy as np\n",
        "from scipy.stats import binom\n",
        "\n",
        "#Incluimos a continuación los datos del caso:\n",
        "#precio (S), strike (E), pasos (n), número de años (T)\n",
        "#volatilidad anual en el precio de la acción (sigma),\n",
        "#tanto de interés anual (r)\n",
        "S = 100\n",
        "E = 100\n",
        "T = 2\n",
        "n = 4\n",
        "volatilidad = 0.2\n",
        "r = 0.07\n",
        "\n",
        "#convertimos el tipo de interés anual a tanto instantáneo (rho), logaritmo neperiano de 1+r\n",
        "\n",
        "rho = np.log(1+r)\n",
        "\n",
        "#calculamos el tiempo que transcurre entre cada paso del árbol\n",
        "deltaT = T / n\n",
        "\n",
        "#calculamos el factor de subida (u)\n",
        "u = np.exp(volatilidad*np.sqrt(deltaT))\n",
        "\n",
        "#en base al factor de subida calculamos el de bajada, que será el complementario (d)\n",
        "d = 1/u\n",
        "\n",
        "\n",
        "#obtenemos la probabilidad de subida en el precio de la acción\n",
        "p = (np.exp(rho * deltaT) - d)/(u - d)\n",
        "\n",
        "\n",
        "#creamos el vector Sn para almacenar el precio de la acción en el paso \n",
        "#la cantidad de precios finales (ramas del árbol) es n+1\n",
        "\n",
        "Sn = [0]*(n+1)\n",
        "\n",
        "#rellenamos Sn\n",
        "for i in range(n+1):\n",
        "\t#precio final de la acción = precio inicial multiplicado por factor de subida y bajada\n",
        "\t#en distinta proporción según el escenario (i)\n",
        "\tSn[i] = S * u ** (n-i)*d**i\n",
        "\n",
        "#creamos el vector ganancia_opción para representar el valor que tiene la opción en cada escenario\n",
        "ganancia_opción = [0] * (n+1)\n",
        "\n",
        "#si el precio de la acción en n es mayor que E, el valor de la opción es la diferencia entre ambos precios\n",
        "#si el precio de la acción en n es menor que E, la opción tiene valor nulo (no ejecutaremos la call)\n",
        "for i in range(n+1):\n",
        "\tif Sn[i] > E:\n",
        "\t\tganancia_opción[i] = Sn[i] - E\n",
        "\telse:\n",
        "\t\tganancia_opción[i] = 0\n",
        "\n",
        "#inicializamos el valor_final de la opción\n",
        "valor_final = 0\n",
        "\n",
        "\n",
        "#el valor final de la opción es la multiplicación, para cada escenario o rama, del valor final\n",
        "#por la probabilidad de que ocurra ese escenario\n",
        "\n",
        "#obtenemos la probabilidad de ese escenario con la distribución binomial\n",
        "#n-i es la cantidad de pasos en que el precio de la acción subió, es decir,\n",
        "#el número de éxitos (normalmente representado k en esta distribución)\n",
        "#p es la probabilidad de éxito, n es la cantidad de intentos (pasos)\n",
        "for i in range(n+1):\n",
        "\tvalor_final+=ganancia_opción[i] * binom.pmf(n-i, n, p)\n",
        "\n",
        "#calculamos el valor_actual de la opción descontando en base a rho\n",
        "valor_actual = valor_final*np.exp(-rho * T)\n",
        "\n",
        "\n",
        "print(\"Valor actual de la opción: \", valor_actual, \"€\")"
      ]
    }
  ]
}