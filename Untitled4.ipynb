{
  "nbformat": 4,
  "nbformat_minor": 0,
  "metadata": {
    "colab": {
      "name": "Untitled4.ipynb",
      "provenance": [],
      "authorship_tag": "ABX9TyPSKOeyYT1/SMaZZTYhxjpC",
      "include_colab_link": true
    },
    "kernelspec": {
      "name": "python3",
      "display_name": "Python 3"
    },
    "language_info": {
      "name": "python"
    }
  },
  "cells": [
    {
      "cell_type": "markdown",
      "metadata": {
        "id": "view-in-github",
        "colab_type": "text"
      },
      "source": [
        "<a href=\"https://colab.research.google.com/github/mgm123456/rentavariableyderivadosfros/blob/main/Untitled4.ipynb\" target=\"_parent\"><img src=\"https://colab.research.google.com/assets/colab-badge.svg\" alt=\"Open In Colab\"/></a>"
      ]
    },
    {
      "cell_type": "code",
      "execution_count": 3,
      "metadata": {
        "colab": {
          "base_uri": "https://localhost:8080/",
          "height": 354
        },
        "id": "7fLYFcCSXvhS",
        "outputId": "ad7d4780-d628-4972-8cdc-3fd9855ad27d"
      },
      "outputs": [
        {
          "output_type": "stream",
          "name": "stdout",
          "text": [
            "[ 2  2  2  2  2  2  2  2  2  2  2  2  2  2  2  2  2  2  2  2  2  1  0 -1\n",
            " -2 -3 -4 -5 -6 -7 -8 -8 -8 -8 -8 -8 -8 -8 -8 -8 -8 -7 -6 -5 -4 -3 -2 -1\n",
            "  0  1  2  2  2  2  2  2  2  2  2  2  2  2  2  2  2  2  2  2  2  2]\n",
            "[70, 71, 72, 73, 74, 75, 76, 77, 78, 79, 80, 81, 82, 83, 84, 85, 86, 87, 88, 89, 90, 91, 92, 93, 94, 95, 96, 97, 98, 99, 100, 101, 102, 103, 104, 105, 106, 107, 108, 109, 110, 111, 112, 113, 114, 115, 116, 117, 118, 119, 120, 121, 122, 123, 124, 125, 126, 127, 128, 129, 130, 131, 132, 133, 134, 135, 136, 137, 138, 139]\n"
          ]
        },
        {
          "output_type": "display_data",
          "data": {
            "text/plain": [
              "<Figure size 432x288 with 1 Axes>"
            ],
            "image/png": "[encoded data removed]"
          },
          "metadata": {
            "needs_background": "light"
          }
        }
      ],
      "source": [
        "\n",
        "import numpy as np\n",
        "import matplotlib.pyplot as plt  \n",
        "\n",
        "\n",
        "#definimos el tipo de estrategia cóndor: \"comprado\" o \"vendido\"\n",
        "tipo_estrategia = \"Vendido\"\n",
        "\n",
        "#establecemos el precio de ejercicio de las opciones call\n",
        "pe_A = 90\n",
        "pe_B = 100\n",
        "pe_C = 110\n",
        "pe_D = 120\n",
        "\n",
        "#también establecemos su prima, es decir el valor de la opción\n",
        "prima_A = 2\n",
        "prima_B = 1\n",
        "prima_C = 1\n",
        "prima_D = 2\n",
        "\n",
        "#y la cantidad de opciones\n",
        "cantidad_A = 1\n",
        "cantidad_B = 1\n",
        "cantidad_C = 1\n",
        "cantidad_D = 1\n",
        "\n",
        "#creamos una horquilla imaginaria de precios para el bien subyacente\n",
        "#tiene que extenderse más allá del precio más bajo y más alto de las opciones\n",
        "margen = 20\n",
        "\n",
        "#usamos la función range. Queremos la lista de todos los precios posibles, para imprimirla al final\n",
        "S = [*range(pe_A - margen, pe_D + margen)]\n",
        "S\n",
        "\n",
        "#ahora creamos vectores para almacenar el valor de cada opción en cada nivel de S\n",
        "#de momento esos vectores sólo tienen ceros\n",
        "valor_A = [0]*len(S)\n",
        "valor_B = [0]*len(S)\n",
        "valor_C = [0]*len(S)\n",
        "valor_D = [0]*len(S)\n",
        "\n",
        "#con una estrategia de cóndor comprado la secuencia de operaciones con opciones es: compra-venta-venta-compra\n",
        "#con una estrategia de cóndor vendido la secuencia es: venta-compra-compra-venta\n",
        "\n",
        "#para las opciones de compra, si S < pe, el valor de la opción es negativo\n",
        "#porque el tenedor de la opción incurre el coste de la prima\n",
        "#si S > pe, el valor de la opción es: S - pe - prima\n",
        "\n",
        "#opción A\n",
        "for i in range(0, len(S)):\n",
        "  if S[i] < pe_A:\n",
        "    valor_A[i] = 0 - prima_A\n",
        "  else:\n",
        "    valor_A[i] = S[i] - pe_A - prima_A\n",
        "\n",
        "#opción B\n",
        "for i in range(0, len(S)):\n",
        "  if S[i] < pe_B:\n",
        "    valor_B[i] = 0 - prima_B\n",
        "  else:\n",
        "    valor_B[i] = S[i] - pe_B - prima_B\n",
        "\n",
        "#opción C\n",
        "for i in range(0, len(S)):\n",
        "  if S[i] < pe_C:\n",
        "    valor_C[i] = 0 - prima_C\n",
        "  else:\n",
        "    valor_C[i] = S[i] - pe_C - prima_C\n",
        "\n",
        "#opción D\n",
        "for i in range(0, len(S)):\n",
        "  if S[i] < pe_D:\n",
        "    valor_D[i] = 0 - prima_D\n",
        "  else:\n",
        "    valor_D[i] = S[i] - pe_D - prima_D\n",
        "\n",
        "#transformamos las listas en vectores. de lo contrario no podremos operar con estos valores\n",
        "valor_A = np.array(valor_A)\n",
        "valor_B = np.array(valor_B)\n",
        "valor_C = np.array(valor_C)\n",
        "valor_D = np.array(valor_D)\n",
        "\n",
        "#para las opciones de venta se aplica la misma fórmula que en compra pero al revés. Sólo hay que multiplicar por -1\n",
        "if tipo_estrategia == \"Comprado\":\n",
        "  valor_A = valor_A * cantidad_A\n",
        "  valor_B = valor_B * cantidad_B * -1\n",
        "  valor_C = valor_C * cantidad_C * -1\n",
        "  valor_D = valor_D * cantidad_D\n",
        "  \n",
        "else:\n",
        "  valor_A = valor_A * cantidad_A * -1\n",
        "  valor_B = valor_B * cantidad_B\n",
        "  valor_C = valor_C * cantidad_C\n",
        "  valor_D = valor_D * cantidad_D * -1\n",
        "\n",
        "#agregamos todos los vectores\n",
        "valor_total = valor_A + valor_B + valor_C + valor_D\n",
        "\n",
        "#mostramos el valor total de la operación para cada precio subyacente\n",
        "print(valor_total)\n",
        "print(S)\n",
        "\n",
        "#lo representamos en un gráfico\n",
        "plt.plot(S, valor_total)  \n",
        "plt.show()"
      ]
    }
  ]
}