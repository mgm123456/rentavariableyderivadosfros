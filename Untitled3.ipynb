{
  "nbformat": 4,
  "nbformat_minor": 0,
  "metadata": {
    "colab": {
      "name": "Untitled3.ipynb",
      "provenance": [],
      "authorship_tag": "ABX9TyNbkYMEijOzRKBBE79M/p4m",
      "include_colab_link": true
    },
    "kernelspec": {
      "name": "python3",
      "display_name": "Python 3"
    },
    "language_info": {
      "name": "python"
    }
  },
  "cells": [
    {
      "cell_type": "markdown",
      "metadata": {
        "id": "view-in-github",
        "colab_type": "text"
      },
      "source": [
        "<a href=\"https://colab.research.google.com/github/mgm123456/rentavariableyderivadosfros/blob/main/Untitled3.ipynb\" target=\"_parent\"><img src=\"https://colab.research.google.com/assets/colab-badge.svg\" alt=\"Open In Colab\"/></a>"
      ]
    },
    {
      "cell_type": "code",
      "execution_count": 5,
      "metadata": {
        "colab": {
          "base_uri": "https://localhost:8080/"
        },
        "id": "dSypM4gUWWEm",
        "outputId": "354934ea-c386-4b04-bdf2-945c7cdd617f"
      },
      "outputs": [
        {
          "output_type": "stream",
          "name": "stdout",
          "text": [
            "Call + Bono =  114.13084112149532\n",
            "Acción + Put =  114\n",
            "Hay opciones de arbitraje\n",
            "Comprar Put y Vender Call\n"
          ]
        }
      ],
      "source": [
        "\n",
        "import random\n",
        "import math\n",
        "import numpy\n",
        "\n",
        "\n",
        "#Definimos las variables que vamos a usar:\n",
        "S = 100 #Precio Actual\n",
        "E = 105 #PE Precio ejercicio\n",
        "P = 14 #Put\n",
        "t = 1 #Años\n",
        "\n",
        "Bonot = 105\n",
        "i = 0.07 #Tasa de interés anual\n",
        "Bono = Bonot/(1+i)** t\n",
        "\n",
        "r = numpy.log(1+i) #Tasa de interés instantánea\n",
        "CMercado = 16 \n",
        "C_teórico = S + P - E * (math.exp(-r*t)) #Cálculamos el CTeórico\n",
        "\n",
        "Sn = 91\n",
        "\n",
        "Call = CMercado\n",
        "BonoX = Bono\n",
        "Acción = S\n",
        "Put = P\n",
        "#True o False\n",
        "Call + BonoX == Acción + Put\n",
        "\n",
        "\n",
        "#Estrategia de arbitraje\n",
        "Izq = Call + BonoX\n",
        "Dch = Acción + Put\n",
        "\n",
        "print(\"Call + Bono = \", Izq)\n",
        "print(\"Acción + Put = \", Dch)\n",
        "\n",
        "Diferencia = Izq - Dch\n",
        "\n",
        "if Diferencia != 0:\n",
        "  print(\"Hay opciones de arbitraje\")\n",
        "\n",
        "if Izq<Dch:\n",
        "  print(\"Comprar Call y Vender Put\")\n",
        "else:\n",
        "  print(\"Comprar Put y Vender Call\")"
      ]
    }
  ]
}